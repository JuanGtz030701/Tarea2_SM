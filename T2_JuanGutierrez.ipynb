{
 "cells": [
  {
   "cell_type": "markdown",
   "metadata": {},
   "source": [
    "# Resumen de 2 Artículos\n",
    "\n",
    "## Artículo 1\n",
    "\n",
    "### [Python se está convirtiendo en el lenguaje de codificación más popular del mundo](https://www.economist.com/graphic-detail/2018/07/26/python-is-becoming-the-worlds-most-popular-coding-language)\n",
    "\n",
    "Python es un lenguaje de programación el cual se ha descargado y buscado mucho, incluso mas que Kim Kardashian, desde **2010 sus busquedas se triplicaron**mientras que la competencia como java, C, entre otros más han disminuido.\n",
    "\n",
    "Python se identifica por su **variedad de cualidades** como su *simplicidad, flexibilidad, sintaxis sencilla* y el uso de espacios con sangria que hacen que sea más fácil de aprender y de recordar. \n",
    "\n",
    "Se ha utilizado para todo tipo de trabajos como para *aplicaciones, juegos y hasta astronomia.*\n",
    "\n",
    "De acuerdo a los usuarios que usan python parece que este lenguaje esta destinado para ser el lenguaje de la codificación, aunque parece que otros lenguajes desapareceran esto no sera posible ya que **no se puede sustituir a C y C++** por ejemplo ya que son opciones de nivel inferior y siempre habra alguien que las utilice ni tampoco Java ya que es un lenguaje con la finalidad de crear aplicaciones mas complicadas.\n",
    "\n",
    "\n",
    "## Artículo 2\n",
    "\n",
    "### [¿Lenguaje de programación del año? Python se destaca en las últimas clasificaciones](https://www.zdnet.com/article/programming-language-of-the-year-python-is-standout-in-latest-rankings/)\n",
    "\n",
    "Python fue creado por el programador **Guido Van Rossum en 1989.**\n",
    "\n",
    "Cada año gana alrededor de **3,62 puntos en el indice de Tiobe**, por encima de ***Visual Basic y Java.***\n",
    "\n",
    "Es el **principal** idioma de programación que se **enseña** en las universidades ya que es para el ***análisis estadístico, aprendizaje automático, es fácil de entender entre otras cosas.***\n",
    "\n",
    "A partir de el ***1 de enero de 2020*** cambiara de **Python 2** a **Python 3** que será la única versión que se recibirá **gratis y apoyo oficial.**\n",
    "\n",
    "Tambien ***MathLab*** subio del puesto 18 al 11 y ***Kotlin*** que es un lenguaje clave para las aplicaiones de android subio del lugar 39 al 31. ***Rust*** del 46 al 33, ***Julia*** creada por el MIT paso del puesto 47 al 37 en la actualidad y por último ***TypeScript*** respaldada por Microsoft subio del puesto 147 al 49.\n",
    "\n",
    "Tiobe especula que **Kotlin** se unira a los ***20 idiomas más populares del año***. Los colaboradores que usan Kotlin para crear proyectos en GitHub se duplicó en 2018.\n",
    "\n",
    "Por último los 20 lenguajes principales para enero de 2019 fueron:\n",
    "1. Java\n",
    "2. C\n",
    "3. Python\n",
    "4. C ++\n",
    "5. Visual Basic.NET\n",
    "6. JavaScript\n",
    "7. C #\n",
    "8. PHP\n",
    "9. SQL\n",
    "10. Objetive-C\n",
    "11. MATHLAB\n",
    "12. R\n",
    "13. Perl\n",
    "14. Lenguaje ensamblador\n",
    "15. Swift\n",
    "16. Go\n",
    "17. Delphi/ Object Pascal\n",
    "18. Ruby\n",
    "19. PL/SQL\n",
    "20. Visual Basic"
   ]
  }
 ],
 "metadata": {
  "kernelspec": {
   "display_name": "Python 3",
   "language": "python",
   "name": "python3"
  },
  "language_info": {
   "codemirror_mode": {
    "name": "ipython",
    "version": 3
   },
   "file_extension": ".py",
   "mimetype": "text/x-python",
   "name": "python",
   "nbconvert_exporter": "python",
   "pygments_lexer": "ipython3",
   "version": "3.7.4"
  }
 },
 "nbformat": 4,
 "nbformat_minor": 2
}
