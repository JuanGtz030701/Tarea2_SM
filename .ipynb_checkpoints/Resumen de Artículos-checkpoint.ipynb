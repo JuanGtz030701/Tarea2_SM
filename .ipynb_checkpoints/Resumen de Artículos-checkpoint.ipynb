{
 "cells": [
  {
   "cell_type": "markdown",
   "metadata": {},
   "source": [
    "# Resumen de 2 Artículos\n",
    "\n",
    "## Artículo 1\n",
    "\n",
    "### [Python se está convirtiendo en el lenguaje de codificación más popular del mundo](https://www.economist.com/graphic-detail/2018/07/26/python-is-becoming-the-worlds-most-popular-coding-language)\n",
    "\n",
    "Python es un lenguaje de programación el cual se ha descargado y buscado mucho, incluso mas que Kim Kardashian, desde **2010 sus busquedas se triplicaron**mientras que la competencia como java, C, entre otros más han disminuido.\n",
    "\n",
    "Python se identifica por su **variedad de cualidades** como su *simplicidad, flexibilidad, sintaxis sencilla* y el uso de espacios con sangria que hacen que sea más fácil de aprender y de recordar. \n",
    "\n",
    "Se ha utilizado para todo tipo de trabajos como para *aplicaciones, juegos y hasta astronomia.*\n",
    "\n",
    "De acuerdo a los usuarios que usan python parece que este lenguaje esta destinado para ser el lenguaje de la codificación, aunque parece que otros lenguajes desapareceran esto no sera posible ya que **no se puede sustituir a C y C++** por ejemplo ya que son opciones de nivel inferior y siempre habra alguien que las utilice ni tampoco Java ya que es un lenguaje con la finalidad de crear aplicaciones mas complicadas.\n"
   ]
  },
  {
   "cell_type": "markdown",
   "metadata": {},
   "source": []
  }
 ],
 "metadata": {
  "kernelspec": {
   "display_name": "Python 3",
   "language": "python",
   "name": "python3"
  },
  "language_info": {
   "codemirror_mode": {
    "name": "ipython",
    "version": 3
   },
   "file_extension": ".py",
   "mimetype": "text/x-python",
   "name": "python",
   "nbconvert_exporter": "python",
   "pygments_lexer": "ipython3",
   "version": "3.7.4"
  }
 },
 "nbformat": 4,
 "nbformat_minor": 2
}
